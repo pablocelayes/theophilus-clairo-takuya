{
 "cells": [
  {
   "cell_type": "code",
   "execution_count": 2,
   "metadata": {},
   "outputs": [],
   "source": [
    "import pandas as pd"
   ]
  },
  {
   "cell_type": "code",
   "execution_count": 3,
   "metadata": {},
   "outputs": [],
   "source": [
    "orders = pd.read_csv(\"../data/machine_learning_challenge_order_data.csv\")"
   ]
  },
  {
   "cell_type": "code",
   "execution_count": 4,
   "metadata": {},
   "outputs": [
    {
     "data": {
      "text/html": [
       "<div>\n",
       "<style scoped>\n",
       "    .dataframe tbody tr th:only-of-type {\n",
       "        vertical-align: middle;\n",
       "    }\n",
       "\n",
       "    .dataframe tbody tr th {\n",
       "        vertical-align: top;\n",
       "    }\n",
       "\n",
       "    .dataframe thead th {\n",
       "        text-align: right;\n",
       "    }\n",
       "</style>\n",
       "<table border=\"1\" class=\"dataframe\">\n",
       "  <thead>\n",
       "    <tr style=\"text-align: right;\">\n",
       "      <th></th>\n",
       "      <th>customer_id</th>\n",
       "      <th>order_date</th>\n",
       "      <th>order_hour</th>\n",
       "      <th>customer_order_rank</th>\n",
       "      <th>is_failed</th>\n",
       "      <th>voucher_amount</th>\n",
       "      <th>delivery_fee</th>\n",
       "      <th>amount_paid</th>\n",
       "      <th>restaurant_id</th>\n",
       "      <th>city_id</th>\n",
       "      <th>payment_id</th>\n",
       "      <th>platform_id</th>\n",
       "      <th>transmission_id</th>\n",
       "    </tr>\n",
       "  </thead>\n",
       "  <tbody>\n",
       "    <tr>\n",
       "      <th>0</th>\n",
       "      <td>000097eabfd9</td>\n",
       "      <td>2015-06-20</td>\n",
       "      <td>19</td>\n",
       "      <td>1.0</td>\n",
       "      <td>0</td>\n",
       "      <td>0.0</td>\n",
       "      <td>0.000</td>\n",
       "      <td>11.46960</td>\n",
       "      <td>5803498</td>\n",
       "      <td>20326</td>\n",
       "      <td>1779</td>\n",
       "      <td>30231</td>\n",
       "      <td>4356</td>\n",
       "    </tr>\n",
       "    <tr>\n",
       "      <th>1</th>\n",
       "      <td>0000e2c6d9be</td>\n",
       "      <td>2016-01-29</td>\n",
       "      <td>20</td>\n",
       "      <td>1.0</td>\n",
       "      <td>0</td>\n",
       "      <td>0.0</td>\n",
       "      <td>0.000</td>\n",
       "      <td>9.55800</td>\n",
       "      <td>239303498</td>\n",
       "      <td>76547</td>\n",
       "      <td>1619</td>\n",
       "      <td>30359</td>\n",
       "      <td>4356</td>\n",
       "    </tr>\n",
       "    <tr>\n",
       "      <th>2</th>\n",
       "      <td>000133bb597f</td>\n",
       "      <td>2017-02-26</td>\n",
       "      <td>19</td>\n",
       "      <td>1.0</td>\n",
       "      <td>0</td>\n",
       "      <td>0.0</td>\n",
       "      <td>0.493</td>\n",
       "      <td>5.93658</td>\n",
       "      <td>206463498</td>\n",
       "      <td>33833</td>\n",
       "      <td>1619</td>\n",
       "      <td>30359</td>\n",
       "      <td>4324</td>\n",
       "    </tr>\n",
       "    <tr>\n",
       "      <th>3</th>\n",
       "      <td>00018269939b</td>\n",
       "      <td>2017-02-05</td>\n",
       "      <td>17</td>\n",
       "      <td>1.0</td>\n",
       "      <td>0</td>\n",
       "      <td>0.0</td>\n",
       "      <td>0.493</td>\n",
       "      <td>9.82350</td>\n",
       "      <td>36613498</td>\n",
       "      <td>99315</td>\n",
       "      <td>1619</td>\n",
       "      <td>30359</td>\n",
       "      <td>4356</td>\n",
       "    </tr>\n",
       "    <tr>\n",
       "      <th>4</th>\n",
       "      <td>0001a00468a6</td>\n",
       "      <td>2015-08-04</td>\n",
       "      <td>19</td>\n",
       "      <td>1.0</td>\n",
       "      <td>0</td>\n",
       "      <td>0.0</td>\n",
       "      <td>0.493</td>\n",
       "      <td>5.15070</td>\n",
       "      <td>225853498</td>\n",
       "      <td>16456</td>\n",
       "      <td>1619</td>\n",
       "      <td>29463</td>\n",
       "      <td>4356</td>\n",
       "    </tr>\n",
       "  </tbody>\n",
       "</table>\n",
       "</div>"
      ],
      "text/plain": [
       "    customer_id  order_date  order_hour  customer_order_rank  is_failed  \\\n",
       "0  000097eabfd9  2015-06-20          19                  1.0          0   \n",
       "1  0000e2c6d9be  2016-01-29          20                  1.0          0   \n",
       "2  000133bb597f  2017-02-26          19                  1.0          0   \n",
       "3  00018269939b  2017-02-05          17                  1.0          0   \n",
       "4  0001a00468a6  2015-08-04          19                  1.0          0   \n",
       "\n",
       "   voucher_amount  delivery_fee  amount_paid  restaurant_id  city_id  \\\n",
       "0             0.0         0.000     11.46960        5803498    20326   \n",
       "1             0.0         0.000      9.55800      239303498    76547   \n",
       "2             0.0         0.493      5.93658      206463498    33833   \n",
       "3             0.0         0.493      9.82350       36613498    99315   \n",
       "4             0.0         0.493      5.15070      225853498    16456   \n",
       "\n",
       "   payment_id  platform_id  transmission_id  \n",
       "0        1779        30231             4356  \n",
       "1        1619        30359             4356  \n",
       "2        1619        30359             4324  \n",
       "3        1619        30359             4356  \n",
       "4        1619        29463             4356  "
      ]
     },
     "execution_count": 4,
     "metadata": {},
     "output_type": "execute_result"
    }
   ],
   "source": [
    "orders.head()"
   ]
  },
  {
   "cell_type": "code",
   "execution_count": 5,
   "metadata": {},
   "outputs": [
    {
     "data": {
      "text/plain": [
       "(786600, 13)"
      ]
     },
     "execution_count": 5,
     "metadata": {},
     "output_type": "execute_result"
    }
   ],
   "source": [
    "orders.shape"
   ]
  },
  {
   "cell_type": "code",
   "execution_count": 10,
   "metadata": {},
   "outputs": [
    {
     "data": {
      "text/plain": [
       "0.22613921085331323"
      ]
     },
     "execution_count": 10,
     "metadata": {},
     "output_type": "execute_result"
    }
   ],
   "source": [
    "orders"
   ]
  },
  {
   "cell_type": "code",
   "execution_count": null,
   "metadata": {},
   "outputs": [],
   "source": []
  }
 ],
 "metadata": {
  "kernelspec": {
   "display_name": "Python 3",
   "language": "python",
   "name": "python3"
  },
  "language_info": {
   "codemirror_mode": {
    "name": "ipython",
    "version": 3
   },
   "file_extension": ".py",
   "mimetype": "text/x-python",
   "name": "python",
   "nbconvert_exporter": "python",
   "pygments_lexer": "ipython3",
   "version": "3.8.5"
  }
 },
 "nbformat": 4,
 "nbformat_minor": 4
}
