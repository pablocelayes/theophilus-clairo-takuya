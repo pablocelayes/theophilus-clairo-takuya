{
 "cells": [
  {
   "cell_type": "code",
   "execution_count": 1,
   "metadata": {},
   "outputs": [],
   "source": [
    "%config Completer.use_jedi = False\n",
    "%matplotlib inline\n",
    "import pandas as pd\n",
    "import numpy as np\n",
    "pd.options.plotting.backend = \"plotly\"\n",
    "pd.set_option('display.max_rows', 100)"
   ]
  },
  {
   "cell_type": "markdown",
   "metadata": {},
   "source": [
    "# Load test data"
   ]
  },
  {
   "cell_type": "code",
   "execution_count": 2,
   "metadata": {},
   "outputs": [],
   "source": [
    "def load_dataset():\n",
    "    ds = pd.read_csv(\"../../data/dataset.csv\")\n",
    "    ds.replace([np.inf, -np.inf], np.nan, inplace=True) # we treat infinite values as NaN\n",
    "    ds = ds.loc[~ds.order_voucher_percentage__mean.isna(),:]\n",
    "    return ds\n",
    "\n",
    "def get_features_and_labels(ds):\n",
    "    non_features_cols = [\"customer_id\", \"is_returning_customer\", \"split\"]\n",
    "    feature_cols = [c for c in ds.columns if c not in non_features_cols]\n",
    "    \n",
    "    X = ds[feature_cols] # features\n",
    "    y = ds.is_returning_customer # labels\n",
    "    return X, y"
   ]
  },
  {
   "cell_type": "code",
   "execution_count": 3,
   "metadata": {},
   "outputs": [],
   "source": [
    "ds = load_dataset()\n",
    "X_test, y_test = get_features_and_labels(ds.query(\"split == 'test'\"))"
   ]
  },
  {
   "cell_type": "code",
   "execution_count": 4,
   "metadata": {},
   "outputs": [
    {
     "data": {
      "text/plain": [
       "((48916, 59), (48916,))"
      ]
     },
     "execution_count": 4,
     "metadata": {},
     "output_type": "execute_result"
    }
   ],
   "source": [
    "(X_test.shape, y_test.shape)"
   ]
  },
  {
   "cell_type": "markdown",
   "metadata": {},
   "source": [
    "# Load model"
   ]
  },
  {
   "cell_type": "code",
   "execution_count": 5,
   "metadata": {},
   "outputs": [],
   "source": [
    "from joblib import load\n",
    "clf = load('fitted_clf.joblib')"
   ]
  },
  {
   "cell_type": "markdown",
   "metadata": {},
   "source": [
    "# Compute permutation importance"
   ]
  },
  {
   "cell_type": "code",
   "execution_count": 6,
   "metadata": {},
   "outputs": [],
   "source": [
    "from sklearn.inspection import permutation_importance"
   ]
  },
  {
   "cell_type": "code",
   "execution_count": 8,
   "metadata": {},
   "outputs": [
    {
     "data": {
      "text/plain": [
       "array([0.64485341, 0.64485341, 0.64485341, ..., 2.22588278, 0.64485341,\n",
       "       2.22588278])"
      ]
     },
     "execution_count": 8,
     "metadata": {},
     "output_type": "execute_result"
    }
   ],
   "source": [
    "from sklearn.utils.class_weight import compute_sample_weight\n",
    "sample_weights = compute_sample_weight(class_weight=\"balanced\", y=y_test)\n",
    "sample_weights"
   ]
  },
  {
   "cell_type": "code",
   "execution_count": 11,
   "metadata": {},
   "outputs": [],
   "source": [
    "result = permutation_importance(clf, X_test, y_test,\n",
    "                                n_repeats=10, random_state=12345,\n",
    "                                sample_weight=sample_weights, scoring=\"f1\",\n",
    "                                n_jobs=-1)"
   ]
  },
  {
   "cell_type": "code",
   "execution_count": 31,
   "metadata": {},
   "outputs": [],
   "source": [
    "sorted_idx = result.importances_mean.argsort()[-n_features:]\n",
    "top_features = np.array(X_test.columns)[sorted_idx]\n",
    "top_importances = result.importances[sorted_idx].T"
   ]
  },
  {
   "cell_type": "code",
   "execution_count": 32,
   "metadata": {},
   "outputs": [
    {
     "data": {
      "text/plain": [
       "(10, 20)"
      ]
     },
     "execution_count": 32,
     "metadata": {},
     "output_type": "execute_result"
    }
   ],
   "source": [
    "top_importances.shape"
   ]
  },
  {
   "cell_type": "code",
   "execution_count": 33,
   "metadata": {},
   "outputs": [
    {
     "data": {
      "text/plain": [
       "array(['n_order_hour_0', 'voucher_amount__min', 'n_order_hour_15',\n",
       "       'n_order_hour_23', 'n_order_hour_14', 'days_since_first_order',\n",
       "       'voucher_amount__max', 'order_voucher_percentage__min',\n",
       "       'order_voucher_percentage__median',\n",
       "       'order_amount_paid_log10__mean', 'order_amount_paid_log10__median',\n",
       "       'n_order_hour_17', 'order_voucher_percentage__max',\n",
       "       'order_amount_paid_log10__min', 'delivery_fee__mean',\n",
       "       'n_order_date_dayofweek_3', 'delivery_fee_not_zero__mean',\n",
       "       'failed_order__mean', 'order__count', 'days_since_last_order'],\n",
       "      dtype=object)"
      ]
     },
     "execution_count": 33,
     "metadata": {},
     "output_type": "execute_result"
    }
   ],
   "source": [
    "top_features"
   ]
  },
  {
   "cell_type": "code",
   "execution_count": 34,
   "metadata": {},
   "outputs": [
    {
     "data": {
      "image/png": "[encoded data removed]",
      "text/plain": [
       "<Figure size 432x288 with 1 Axes>"
      ]
     },
     "metadata": {
      "needs_background": "light"
     },
     "output_type": "display_data"
    }
   ],
   "source": [
    "import matplotlib.pyplot as plt\n",
    "\n",
    "plt.boxplot(top_importances,\n",
    "            labels=top_features,\n",
    "            vert=False)\n",
    "plt.title(\"Permutation Importance (test set)\")\n",
    "plt.show()"
   ]
  },
  {
   "cell_type": "markdown",
   "metadata": {},
   "source": [
    "**TODO**: Shap analysis"
   ]
  }
 ],
 "metadata": {
  "kernelspec": {
   "display_name": "dh-mkt-ds",
   "language": "python",
   "name": "dh-mkt-ds"
  },
  "language_info": {
   "codemirror_mode": {
    "name": "ipython",
    "version": 3
   },
   "file_extension": ".py",
   "mimetype": "text/x-python",
   "name": "python",
   "nbconvert_exporter": "python",
   "pygments_lexer": "ipython3",
   "version": "3.8.6"
  }
 },
 "nbformat": 4,
 "nbformat_minor": 4
}
