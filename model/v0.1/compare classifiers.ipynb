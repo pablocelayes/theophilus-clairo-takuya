{
 "cells": [
  {
   "cell_type": "code",
   "execution_count": 1,
   "metadata": {},
   "outputs": [],
   "source": [
    "%config Completer.use_jedi = False\n",
    "%matplotlib inline\n",
    "import pandas as pd\n",
    "import numpy as np\n",
    "pd.options.plotting.backend = \"plotly\"\n",
    "pd.set_option('display.max_rows', 100)"
   ]
  },
  {
   "cell_type": "markdown",
   "metadata": {},
   "source": [
    "#Load train/test datasets"
   ]
  },
  {
   "cell_type": "code",
   "execution_count": 2,
   "metadata": {},
   "outputs": [],
   "source": [
    "import pandas as pd"
   ]
  },
  {
   "cell_type": "code",
   "execution_count": 3,
   "metadata": {},
   "outputs": [],
   "source": [
    "ds = pd.read_csv(\"../../data/dataset.csv\")"
   ]
  },
  {
   "cell_type": "code",
   "execution_count": 4,
   "metadata": {},
   "outputs": [
    {
     "data": {
      "text/html": [
       "<div>\n",
       "<style scoped>\n",
       "    .dataframe tbody tr th:only-of-type {\n",
       "        vertical-align: middle;\n",
       "    }\n",
       "\n",
       "    .dataframe tbody tr th {\n",
       "        vertical-align: top;\n",
       "    }\n",
       "\n",
       "    .dataframe thead th {\n",
       "        text-align: right;\n",
       "    }\n",
       "</style>\n",
       "<table border=\"1\" class=\"dataframe\">\n",
       "  <thead>\n",
       "    <tr style=\"text-align: right;\">\n",
       "      <th></th>\n",
       "      <th>customer_id</th>\n",
       "      <th>order__count</th>\n",
       "      <th>order_amount_paid_log10__mean</th>\n",
       "      <th>order_amount_paid_log10__min</th>\n",
       "      <th>order_amount_paid_log10__max</th>\n",
       "      <th>order_amount_paid_log10__median</th>\n",
       "      <th>voucher_amount__mean</th>\n",
       "      <th>voucher_amount__min</th>\n",
       "      <th>voucher_amount__max</th>\n",
       "      <th>voucher_amount__median</th>\n",
       "      <th>...</th>\n",
       "      <th>failed_order__max</th>\n",
       "      <th>failed_order__sum</th>\n",
       "      <th>failed_order__mean</th>\n",
       "      <th>delivery_fee_not_zero__max</th>\n",
       "      <th>delivery_fee_not_zero__sum</th>\n",
       "      <th>delivery_fee_not_zero__mean</th>\n",
       "      <th>days_since_last_order</th>\n",
       "      <th>days_since_first_order</th>\n",
       "      <th>is_returning_customer</th>\n",
       "      <th>split</th>\n",
       "    </tr>\n",
       "  </thead>\n",
       "  <tbody>\n",
       "    <tr>\n",
       "      <th>0</th>\n",
       "      <td>000097eabfd9</td>\n",
       "      <td>1</td>\n",
       "      <td>1.095853</td>\n",
       "      <td>1.095853</td>\n",
       "      <td>1.095853</td>\n",
       "      <td>1.095853</td>\n",
       "      <td>0.0</td>\n",
       "      <td>0.0</td>\n",
       "      <td>0.0</td>\n",
       "      <td>0.0</td>\n",
       "      <td>...</td>\n",
       "      <td>0</td>\n",
       "      <td>0</td>\n",
       "      <td>0.0</td>\n",
       "      <td>0</td>\n",
       "      <td>0</td>\n",
       "      <td>0.0</td>\n",
       "      <td>619</td>\n",
       "      <td>619</td>\n",
       "      <td>0</td>\n",
       "      <td>train</td>\n",
       "    </tr>\n",
       "    <tr>\n",
       "      <th>1</th>\n",
       "      <td>0000e2c6d9be</td>\n",
       "      <td>1</td>\n",
       "      <td>1.023582</td>\n",
       "      <td>1.023582</td>\n",
       "      <td>1.023582</td>\n",
       "      <td>1.023582</td>\n",
       "      <td>0.0</td>\n",
       "      <td>0.0</td>\n",
       "      <td>0.0</td>\n",
       "      <td>0.0</td>\n",
       "      <td>...</td>\n",
       "      <td>0</td>\n",
       "      <td>0</td>\n",
       "      <td>0.0</td>\n",
       "      <td>0</td>\n",
       "      <td>0</td>\n",
       "      <td>0.0</td>\n",
       "      <td>396</td>\n",
       "      <td>396</td>\n",
       "      <td>0</td>\n",
       "      <td>test</td>\n",
       "    </tr>\n",
       "    <tr>\n",
       "      <th>2</th>\n",
       "      <td>000133bb597f</td>\n",
       "      <td>1</td>\n",
       "      <td>0.841145</td>\n",
       "      <td>0.841145</td>\n",
       "      <td>0.841145</td>\n",
       "      <td>0.841145</td>\n",
       "      <td>0.0</td>\n",
       "      <td>0.0</td>\n",
       "      <td>0.0</td>\n",
       "      <td>0.0</td>\n",
       "      <td>...</td>\n",
       "      <td>0</td>\n",
       "      <td>0</td>\n",
       "      <td>0.0</td>\n",
       "      <td>1</td>\n",
       "      <td>1</td>\n",
       "      <td>1.0</td>\n",
       "      <td>2</td>\n",
       "      <td>2</td>\n",
       "      <td>1</td>\n",
       "      <td>val</td>\n",
       "    </tr>\n",
       "    <tr>\n",
       "      <th>3</th>\n",
       "      <td>00018269939b</td>\n",
       "      <td>1</td>\n",
       "      <td>1.034368</td>\n",
       "      <td>1.034368</td>\n",
       "      <td>1.034368</td>\n",
       "      <td>1.034368</td>\n",
       "      <td>0.0</td>\n",
       "      <td>0.0</td>\n",
       "      <td>0.0</td>\n",
       "      <td>0.0</td>\n",
       "      <td>...</td>\n",
       "      <td>0</td>\n",
       "      <td>0</td>\n",
       "      <td>0.0</td>\n",
       "      <td>1</td>\n",
       "      <td>1</td>\n",
       "      <td>1.0</td>\n",
       "      <td>23</td>\n",
       "      <td>23</td>\n",
       "      <td>0</td>\n",
       "      <td>train</td>\n",
       "    </tr>\n",
       "    <tr>\n",
       "      <th>4</th>\n",
       "      <td>0001a00468a6</td>\n",
       "      <td>1</td>\n",
       "      <td>0.788925</td>\n",
       "      <td>0.788925</td>\n",
       "      <td>0.788925</td>\n",
       "      <td>0.788925</td>\n",
       "      <td>0.0</td>\n",
       "      <td>0.0</td>\n",
       "      <td>0.0</td>\n",
       "      <td>0.0</td>\n",
       "      <td>...</td>\n",
       "      <td>0</td>\n",
       "      <td>0</td>\n",
       "      <td>0.0</td>\n",
       "      <td>1</td>\n",
       "      <td>1</td>\n",
       "      <td>1.0</td>\n",
       "      <td>574</td>\n",
       "      <td>574</td>\n",
       "      <td>0</td>\n",
       "      <td>train</td>\n",
       "    </tr>\n",
       "  </tbody>\n",
       "</table>\n",
       "<p>5 rows × 62 columns</p>\n",
       "</div>"
      ],
      "text/plain": [
       "    customer_id  order__count  order_amount_paid_log10__mean  \\\n",
       "0  000097eabfd9             1                       1.095853   \n",
       "1  0000e2c6d9be             1                       1.023582   \n",
       "2  000133bb597f             1                       0.841145   \n",
       "3  00018269939b             1                       1.034368   \n",
       "4  0001a00468a6             1                       0.788925   \n",
       "\n",
       "   order_amount_paid_log10__min  order_amount_paid_log10__max  \\\n",
       "0                      1.095853                      1.095853   \n",
       "1                      1.023582                      1.023582   \n",
       "2                      0.841145                      0.841145   \n",
       "3                      1.034368                      1.034368   \n",
       "4                      0.788925                      0.788925   \n",
       "\n",
       "   order_amount_paid_log10__median  voucher_amount__mean  voucher_amount__min  \\\n",
       "0                         1.095853                   0.0                  0.0   \n",
       "1                         1.023582                   0.0                  0.0   \n",
       "2                         0.841145                   0.0                  0.0   \n",
       "3                         1.034368                   0.0                  0.0   \n",
       "4                         0.788925                   0.0                  0.0   \n",
       "\n",
       "   voucher_amount__max  voucher_amount__median  ...  failed_order__max  \\\n",
       "0                  0.0                     0.0  ...                  0   \n",
       "1                  0.0                     0.0  ...                  0   \n",
       "2                  0.0                     0.0  ...                  0   \n",
       "3                  0.0                     0.0  ...                  0   \n",
       "4                  0.0                     0.0  ...                  0   \n",
       "\n",
       "   failed_order__sum  failed_order__mean  delivery_fee_not_zero__max  \\\n",
       "0                  0                 0.0                           0   \n",
       "1                  0                 0.0                           0   \n",
       "2                  0                 0.0                           1   \n",
       "3                  0                 0.0                           1   \n",
       "4                  0                 0.0                           1   \n",
       "\n",
       "   delivery_fee_not_zero__sum  delivery_fee_not_zero__mean  \\\n",
       "0                           0                          0.0   \n",
       "1                           0                          0.0   \n",
       "2                           1                          1.0   \n",
       "3                           1                          1.0   \n",
       "4                           1                          1.0   \n",
       "\n",
       "   days_since_last_order  days_since_first_order  is_returning_customer  split  \n",
       "0                    619                     619                      0  train  \n",
       "1                    396                     396                      0   test  \n",
       "2                      2                       2                      1    val  \n",
       "3                     23                      23                      0  train  \n",
       "4                    574                     574                      0  train  \n",
       "\n",
       "[5 rows x 62 columns]"
      ]
     },
     "execution_count": 4,
     "metadata": {},
     "output_type": "execute_result"
    }
   ],
   "source": [
    "ds.head()"
   ]
  },
  {
   "cell_type": "code",
   "execution_count": 5,
   "metadata": {
    "scrolled": true
   },
   "outputs": [
    {
     "data": {
      "text/plain": [
       "customer_id                          object\n",
       "order__count                          int64\n",
       "order_amount_paid_log10__mean       float64\n",
       "order_amount_paid_log10__min        float64\n",
       "order_amount_paid_log10__max        float64\n",
       "order_amount_paid_log10__median     float64\n",
       "voucher_amount__mean                float64\n",
       "voucher_amount__min                 float64\n",
       "voucher_amount__max                 float64\n",
       "voucher_amount__median              float64\n",
       "order_voucher_percentage__mean      float64\n",
       "order_voucher_percentage__min       float64\n",
       "order_voucher_percentage__max       float64\n",
       "order_voucher_percentage__median    float64\n",
       "delivery_fee__mean                  float64\n",
       "delivery_fee__min                   float64\n",
       "delivery_fee__max                   float64\n",
       "delivery_fee__median                float64\n",
       "n_order_date_dayofweek_0            float64\n",
       "n_order_date_dayofweek_1            float64\n",
       "n_order_date_dayofweek_2            float64\n",
       "n_order_date_dayofweek_3            float64\n",
       "n_order_date_dayofweek_4            float64\n",
       "n_order_date_dayofweek_5            float64\n",
       "n_order_date_dayofweek_6            float64\n",
       "n_order_hour_0                      float64\n",
       "n_order_hour_1                      float64\n",
       "n_order_hour_2                      float64\n",
       "n_order_hour_3                      float64\n",
       "n_order_hour_4                      float64\n",
       "n_order_hour_5                      float64\n",
       "n_order_hour_6                      float64\n",
       "n_order_hour_7                      float64\n",
       "n_order_hour_8                      float64\n",
       "n_order_hour_9                      float64\n",
       "n_order_hour_10                     float64\n",
       "n_order_hour_11                     float64\n",
       "n_order_hour_12                     float64\n",
       "n_order_hour_13                     float64\n",
       "n_order_hour_14                     float64\n",
       "n_order_hour_15                     float64\n",
       "n_order_hour_16                     float64\n",
       "n_order_hour_17                     float64\n",
       "n_order_hour_18                     float64\n",
       "n_order_hour_19                     float64\n",
       "n_order_hour_20                     float64\n",
       "n_order_hour_21                     float64\n",
       "n_order_hour_22                     float64\n",
       "n_order_hour_23                     float64\n",
       "used_voucher__max                     int64\n",
       "used_voucher__sum                     int64\n",
       "used_voucher__mean                  float64\n",
       "failed_order__max                     int64\n",
       "failed_order__sum                     int64\n",
       "failed_order__mean                  float64\n",
       "delivery_fee_not_zero__max            int64\n",
       "delivery_fee_not_zero__sum            int64\n",
       "delivery_fee_not_zero__mean         float64\n",
       "days_since_last_order                 int64\n",
       "days_since_first_order                int64\n",
       "is_returning_customer                 int64\n",
       "split                                object\n",
       "dtype: object"
      ]
     },
     "execution_count": 5,
     "metadata": {},
     "output_type": "execute_result"
    }
   ],
   "source": [
    "ds.dtypes"
   ]
  },
  {
   "cell_type": "markdown",
   "metadata": {},
   "source": [
    "All features are already numeric, no need to transform them"
   ]
  },
  {
   "cell_type": "markdown",
   "metadata": {},
   "source": [
    "Let's check if there are NaN values"
   ]
  },
  {
   "cell_type": "code",
   "execution_count": 6,
   "metadata": {},
   "outputs": [
    {
     "data": {
      "text/plain": [
       "customer_id                         0\n",
       "order__count                        0\n",
       "order_amount_paid_log10__mean       0\n",
       "order_amount_paid_log10__min        0\n",
       "order_amount_paid_log10__max        0\n",
       "order_amount_paid_log10__median     0\n",
       "voucher_amount__mean                0\n",
       "voucher_amount__min                 0\n",
       "voucher_amount__max                 0\n",
       "voucher_amount__median              0\n",
       "order_voucher_percentage__mean      1\n",
       "order_voucher_percentage__min       1\n",
       "order_voucher_percentage__max       1\n",
       "order_voucher_percentage__median    1\n",
       "delivery_fee__mean                  0\n",
       "delivery_fee__min                   0\n",
       "delivery_fee__max                   0\n",
       "delivery_fee__median                0\n",
       "n_order_date_dayofweek_0            0\n",
       "n_order_date_dayofweek_1            0\n",
       "n_order_date_dayofweek_2            0\n",
       "n_order_date_dayofweek_3            0\n",
       "n_order_date_dayofweek_4            0\n",
       "n_order_date_dayofweek_5            0\n",
       "n_order_date_dayofweek_6            0\n",
       "n_order_hour_0                      0\n",
       "n_order_hour_1                      0\n",
       "n_order_hour_2                      0\n",
       "n_order_hour_3                      0\n",
       "n_order_hour_4                      0\n",
       "n_order_hour_5                      0\n",
       "n_order_hour_6                      0\n",
       "n_order_hour_7                      0\n",
       "n_order_hour_8                      0\n",
       "n_order_hour_9                      0\n",
       "n_order_hour_10                     0\n",
       "n_order_hour_11                     0\n",
       "n_order_hour_12                     0\n",
       "n_order_hour_13                     0\n",
       "n_order_hour_14                     0\n",
       "n_order_hour_15                     0\n",
       "n_order_hour_16                     0\n",
       "n_order_hour_17                     0\n",
       "n_order_hour_18                     0\n",
       "n_order_hour_19                     0\n",
       "n_order_hour_20                     0\n",
       "n_order_hour_21                     0\n",
       "n_order_hour_22                     0\n",
       "n_order_hour_23                     0\n",
       "used_voucher__max                   0\n",
       "used_voucher__sum                   0\n",
       "used_voucher__mean                  0\n",
       "failed_order__max                   0\n",
       "failed_order__sum                   0\n",
       "failed_order__mean                  0\n",
       "delivery_fee_not_zero__max          0\n",
       "delivery_fee_not_zero__sum          0\n",
       "delivery_fee_not_zero__mean         0\n",
       "days_since_last_order               0\n",
       "days_since_first_order              0\n",
       "is_returning_customer               0\n",
       "split                               0\n",
       "dtype: int64"
      ]
     },
     "execution_count": 6,
     "metadata": {},
     "output_type": "execute_result"
    }
   ],
   "source": [
    "ds.replace([np.inf, -np.inf], np.nan, inplace=True) # we treat infinite values as NaN\n",
    "ds.isna().sum()"
   ]
  },
  {
   "cell_type": "markdown",
   "metadata": {},
   "source": [
    "There is one row with some NaN values in train:"
   ]
  },
  {
   "cell_type": "code",
   "execution_count": 7,
   "metadata": {},
   "outputs": [
    {
     "data": {
      "text/html": [
       "<div>\n",
       "<style scoped>\n",
       "    .dataframe tbody tr th:only-of-type {\n",
       "        vertical-align: middle;\n",
       "    }\n",
       "\n",
       "    .dataframe tbody tr th {\n",
       "        vertical-align: top;\n",
       "    }\n",
       "\n",
       "    .dataframe thead th {\n",
       "        text-align: right;\n",
       "    }\n",
       "</style>\n",
       "<table border=\"1\" class=\"dataframe\">\n",
       "  <thead>\n",
       "    <tr style=\"text-align: right;\">\n",
       "      <th></th>\n",
       "      <th>customer_id</th>\n",
       "      <th>order__count</th>\n",
       "      <th>order_amount_paid_log10__mean</th>\n",
       "      <th>order_amount_paid_log10__min</th>\n",
       "      <th>order_amount_paid_log10__max</th>\n",
       "      <th>order_amount_paid_log10__median</th>\n",
       "      <th>voucher_amount__mean</th>\n",
       "      <th>voucher_amount__min</th>\n",
       "      <th>voucher_amount__max</th>\n",
       "      <th>voucher_amount__median</th>\n",
       "      <th>...</th>\n",
       "      <th>failed_order__max</th>\n",
       "      <th>failed_order__sum</th>\n",
       "      <th>failed_order__mean</th>\n",
       "      <th>delivery_fee_not_zero__max</th>\n",
       "      <th>delivery_fee_not_zero__sum</th>\n",
       "      <th>delivery_fee_not_zero__mean</th>\n",
       "      <th>days_since_last_order</th>\n",
       "      <th>days_since_first_order</th>\n",
       "      <th>is_returning_customer</th>\n",
       "      <th>split</th>\n",
       "    </tr>\n",
       "  </thead>\n",
       "  <tbody>\n",
       "    <tr>\n",
       "      <th>173440</th>\n",
       "      <td>b467aab6bf25</td>\n",
       "      <td>1</td>\n",
       "      <td>0.0</td>\n",
       "      <td>0.0</td>\n",
       "      <td>0.0</td>\n",
       "      <td>0.0</td>\n",
       "      <td>0.0</td>\n",
       "      <td>0.0</td>\n",
       "      <td>0.0</td>\n",
       "      <td>0.0</td>\n",
       "      <td>...</td>\n",
       "      <td>0</td>\n",
       "      <td>0</td>\n",
       "      <td>0.0</td>\n",
       "      <td>0</td>\n",
       "      <td>0</td>\n",
       "      <td>0.0</td>\n",
       "      <td>634</td>\n",
       "      <td>634</td>\n",
       "      <td>0</td>\n",
       "      <td>train</td>\n",
       "    </tr>\n",
       "  </tbody>\n",
       "</table>\n",
       "<p>1 rows × 62 columns</p>\n",
       "</div>"
      ],
      "text/plain": [
       "         customer_id  order__count  order_amount_paid_log10__mean  \\\n",
       "173440  b467aab6bf25             1                            0.0   \n",
       "\n",
       "        order_amount_paid_log10__min  order_amount_paid_log10__max  \\\n",
       "173440                           0.0                           0.0   \n",
       "\n",
       "        order_amount_paid_log10__median  voucher_amount__mean  \\\n",
       "173440                              0.0                   0.0   \n",
       "\n",
       "        voucher_amount__min  voucher_amount__max  voucher_amount__median  ...  \\\n",
       "173440                  0.0                  0.0                     0.0  ...   \n",
       "\n",
       "        failed_order__max  failed_order__sum  failed_order__mean  \\\n",
       "173440                  0                  0                 0.0   \n",
       "\n",
       "        delivery_fee_not_zero__max  delivery_fee_not_zero__sum  \\\n",
       "173440                           0                           0   \n",
       "\n",
       "        delivery_fee_not_zero__mean  days_since_last_order  \\\n",
       "173440                          0.0                    634   \n",
       "\n",
       "        days_since_first_order  is_returning_customer  split  \n",
       "173440                     634                      0  train  \n",
       "\n",
       "[1 rows x 62 columns]"
      ]
     },
     "execution_count": 7,
     "metadata": {},
     "output_type": "execute_result"
    }
   ],
   "source": [
    "ds.loc[ds.order_voucher_percentage__mean.isna(),:]"
   ]
  },
  {
   "cell_type": "markdown",
   "metadata": {},
   "source": [
    "We remove it:"
   ]
  },
  {
   "cell_type": "code",
   "execution_count": 8,
   "metadata": {},
   "outputs": [
    {
     "data": {
      "text/plain": [
       "(245437, 62)"
      ]
     },
     "execution_count": 8,
     "metadata": {},
     "output_type": "execute_result"
    }
   ],
   "source": [
    "ds = ds.loc[~ds.order_voucher_percentage__mean.isna(),:]\n",
    "ds.shape"
   ]
  },
  {
   "cell_type": "code",
   "execution_count": 9,
   "metadata": {},
   "outputs": [],
   "source": [
    "non_features_cols = [\"customer_id\", \"is_returning_customer\", \"split\"]\n",
    "feature_cols = [c for c in ds.columns if c not in non_features_cols]"
   ]
  },
  {
   "cell_type": "code",
   "execution_count": 10,
   "metadata": {},
   "outputs": [],
   "source": [
    "def get_features_and_labels(ds):\n",
    "    X = ds[feature_cols] # features\n",
    "    y = ds.is_returning_customer # labels\n",
    "    return X, y"
   ]
  },
  {
   "cell_type": "code",
   "execution_count": 11,
   "metadata": {},
   "outputs": [],
   "source": [
    "X_train, y_train = get_features_and_labels(ds.query(\"split == 'train'\"))\n",
    "X_val, y_val = get_features_and_labels(ds.query(\"split == 'test'\"))"
   ]
  },
  {
   "cell_type": "code",
   "execution_count": 12,
   "metadata": {},
   "outputs": [
    {
     "data": {
      "text/plain": [
       "((172081, 59), (172081,))"
      ]
     },
     "execution_count": 12,
     "metadata": {},
     "output_type": "execute_result"
    }
   ],
   "source": [
    "(X_train.shape, y_train.shape)"
   ]
  },
  {
   "cell_type": "code",
   "execution_count": 13,
   "metadata": {},
   "outputs": [
    {
     "data": {
      "text/plain": [
       "dtype('int64')"
      ]
     },
     "execution_count": 13,
     "metadata": {},
     "output_type": "execute_result"
    }
   ],
   "source": [
    "y_train.dtype"
   ]
  },
  {
   "cell_type": "code",
   "execution_count": 14,
   "metadata": {},
   "outputs": [
    {
     "data": {
      "text/plain": [
       "((48916, 59), (48916,))"
      ]
     },
     "execution_count": 14,
     "metadata": {},
     "output_type": "execute_result"
    }
   ],
   "source": [
    "(X_val.shape, y_val.shape)"
   ]
  },
  {
   "cell_type": "markdown",
   "metadata": {},
   "source": [
    "# Comparison of classifiers\n",
    "Let's compare the out-of-the-box performance of the some common classifier algorithms"
   ]
  },
  {
   "cell_type": "code",
   "execution_count": 15,
   "metadata": {},
   "outputs": [],
   "source": [
    "from sklearn.metrics import f1_score"
   ]
  },
  {
   "cell_type": "code",
   "execution_count": 16,
   "metadata": {},
   "outputs": [],
   "source": [
    "from sklearn.ensemble import GradientBoostingClassifier"
   ]
  },
  {
   "cell_type": "code",
   "execution_count": 17,
   "metadata": {},
   "outputs": [
    {
     "name": "stdout",
     "output_type": "stream",
     "text": [
      "CPU times: user 47.4 s, sys: 17.8 ms, total: 47.4 s\n",
      "Wall time: 47.4 s\n"
     ]
    },
    {
     "data": {
      "text/plain": [
       "0.5538688953323099"
      ]
     },
     "execution_count": 17,
     "metadata": {},
     "output_type": "execute_result"
    }
   ],
   "source": [
    "%%time\n",
    "clf = GradientBoostingClassifier(n_estimators=100,\n",
    "                                 random_state=12345)\\\n",
    "            .fit(X_train, y_train)\n",
    "\n",
    "y_pred = clf.predict(X_val)\n",
    "f1_score(y_val, y_pred)"
   ]
  },
  {
   "cell_type": "code",
   "execution_count": 18,
   "metadata": {},
   "outputs": [
    {
     "data": {
      "text/plain": [
       "array([0.64615829, 0.64615829, 0.64615829, ..., 2.21047426, 0.64615829,\n",
       "       0.64615829])"
      ]
     },
     "execution_count": 18,
     "metadata": {},
     "output_type": "execute_result"
    }
   ],
   "source": [
    "# Let's add sample weights\n",
    "from sklearn.utils.class_weight import compute_sample_weight\n",
    "sample_weights = compute_sample_weight(class_weight=\"balanced\", y=y_train)\n",
    "sample_weights"
   ]
  },
  {
   "cell_type": "code",
   "execution_count": 19,
   "metadata": {},
   "outputs": [
    {
     "name": "stdout",
     "output_type": "stream",
     "text": [
      "CPU times: user 44.9 s, sys: 20 ms, total: 45 s\n",
      "Wall time: 45 s\n"
     ]
    },
    {
     "data": {
      "text/plain": [
       "0.5838127818379723"
      ]
     },
     "execution_count": 19,
     "metadata": {},
     "output_type": "execute_result"
    }
   ],
   "source": [
    "%%time\n",
    "# Best\n",
    "clf = GradientBoostingClassifier(n_estimators=100,\n",
    "                                 random_state=12345)\\\n",
    "            .fit(X_train, y_train,\n",
    "                sample_weight=sample_weights)\n",
    "y_pred = clf.predict(X_val)\n",
    "f1_score(y_val, y_pred)"
   ]
  },
  {
   "cell_type": "code",
   "execution_count": 20,
   "metadata": {},
   "outputs": [],
   "source": [
    "from sklearn.ensemble import RandomForestClassifier"
   ]
  },
  {
   "cell_type": "code",
   "execution_count": 21,
   "metadata": {},
   "outputs": [
    {
     "name": "stdout",
     "output_type": "stream",
     "text": [
      "CPU times: user 36.8 s, sys: 172 ms, total: 36.9 s\n",
      "Wall time: 36.9 s\n"
     ]
    },
    {
     "data": {
      "text/plain": [
       "0.5307831598008148"
      ]
     },
     "execution_count": 21,
     "metadata": {},
     "output_type": "execute_result"
    }
   ],
   "source": [
    "%%time\n",
    "clf = RandomForestClassifier(n_estimators=100,\n",
    "                            random_state=12345)\\\n",
    "            .fit(X_train, y_train,\n",
    "                sample_weight=sample_weights)\n",
    "y_pred = clf.predict(X_val)\n",
    "f1_score(y_val, y_pred)"
   ]
  },
  {
   "cell_type": "code",
   "execution_count": 22,
   "metadata": {},
   "outputs": [
    {
     "name": "stdout",
     "output_type": "stream",
     "text": [
      "CPU times: user 2.5 s, sys: 28 ms, total: 2.52 s\n",
      "Wall time: 2.53 s\n"
     ]
    },
    {
     "data": {
      "text/plain": [
       "0.5630740528128588"
      ]
     },
     "execution_count": 22,
     "metadata": {},
     "output_type": "execute_result"
    }
   ],
   "source": [
    "%%time\n",
    "from sklearn.linear_model import LogisticRegression\n",
    "\n",
    "clf = LogisticRegression(random_state=12345)\\\n",
    "            .fit(X_train, y_train,\n",
    "                sample_weight=sample_weights)\n",
    "y_pred = clf.predict(X_val)\n",
    "f1_score(y_val, y_pred)"
   ]
  },
  {
   "cell_type": "code",
   "execution_count": null,
   "metadata": {},
   "outputs": [],
   "source": [
    "## These are extremely slow for this dataset"
   ]
  },
  {
   "cell_type": "code",
   "execution_count": 23,
   "metadata": {},
   "outputs": [],
   "source": [
    "# from sklearn import svm"
   ]
  },
  {
   "cell_type": "code",
   "execution_count": null,
   "metadata": {},
   "outputs": [],
   "source": [
    "# %%time\n",
    "# clf = svm.SVC(random_state=12345, kernel='linear', C=1.0)\\\n",
    "#             .fit(X_train, y_train,\n",
    "#                 sample_weight=sample_weights)\n",
    "# y_pred = clf.predict(X_val)\n",
    "# f1_score(y_val, y_pred)"
   ]
  },
  {
   "cell_type": "code",
   "execution_count": null,
   "metadata": {},
   "outputs": [],
   "source": [
    "# %%time\n",
    "# clf = svm.SVC(random_state=12345, kernel='rbf', C=1.0)\\\n",
    "#             .fit(X_train, y_train,\n",
    "#                 sample_weight=sample_weights)\n",
    "# y_pred = clf.predict(X_val)\n",
    "# f1_score(y_val, y_pred)"
   ]
  }
 ],
 "metadata": {
  "kernelspec": {
   "display_name": "dh-mkt-ds",
   "language": "python",
   "name": "dh-mkt-ds"
  },
  "language_info": {
   "codemirror_mode": {
    "name": "ipython",
    "version": 3
   },
   "file_extension": ".py",
   "mimetype": "text/x-python",
   "name": "python",
   "nbconvert_exporter": "python",
   "pygments_lexer": "ipython3",
   "version": "3.8.6"
  }
 },
 "nbformat": 4,
 "nbformat_minor": 4
}
